{
 "cells": [
  {
   "cell_type": "markdown",
   "id": "ada5d6ff-ddd3-4826-8852-0fe5c192ce5b",
   "metadata": {},
   "source": [
    "## Import of Yelp JSON to SQL "
   ]
  },
  {
   "cell_type": "code",
   "execution_count": 2,
   "id": "3e227c62-4de4-467d-9056-3142330a3d46",
   "metadata": {},
   "outputs": [],
   "source": [
    "import pandas as pd\n",
    "import json\n",
    "from sqlalchemy import create_engine\n",
    "\n"
   ]
  },
  {
   "cell_type": "code",
   "execution_count": 10,
   "id": "f10012e3-c2e3-4a7a-bf72-da8a4b8ffaba",
   "metadata": {},
   "outputs": [],
   "source": [
    "with open('yelp_academic_dataset_business.json',  'r', encoding = 'cp850') as f:\n",
    "    businees_data=[json.loads(line) for line in f]\n",
    "business_df=pd.DataFrame(businees_data)\n",
    "\n",
    "with open('yelp_academic_dataset_checkin.json',  'r', encoding = 'cp850') as f:\n",
    "    checkin_data=[json.loads(line) for line in f]\n",
    "checkin_df=pd.DataFrame(checkin_data)\n",
    "\n",
    "with open('yelp_academic_dataset_review.json',  'r', encoding = 'cp850') as f:\n",
    "    review_data=[json.loads(line) for line in f]\n",
    "review_df=pd.DataFrame(review_data)\n",
    "\n",
    "with open('yelp_academic_dataset_tip.json',  'r', encoding = 'cp850') as f:\n",
    "    tip_data=[json.loads(line) for line in f]\n",
    "tip_df=pd.DataFrame(tip_data)\n",
    "\n",
    "with open('yelp_academic_dataset_user.json',  'r', encoding = 'cp850') as f:\n",
    "    user_data=[json.loads(line) for line in f]\n",
    "user_df=pd.DataFrame(user_data)"
   ]
  },
  {
   "cell_type": "code",
   "execution_count": 11,
   "id": "3f2ac472-9be2-4b86-8e03-ebe4438eeb32",
   "metadata": {},
   "outputs": [
    {
     "name": "stdout",
     "output_type": "stream",
     "text": [
      "(6990280, 9)\n"
     ]
    }
   ],
   "source": [
    "print(business_df.shape)\n",
    "print(checkin_df.shape)\n",
    "print(review_df.shape)\n",
    "print(tip_df.shape)\n",
    "print(user_df.shape)"
   ]
  },
  {
   "cell_type": "code",
   "execution_count": 16,
   "id": "a3e12b91-58c7-409f-a9b0-a0f9e4aa77f5",
   "metadata": {},
   "outputs": [],
   "source": [
    "business_df.drop(['attributes','hours'], axis=1, inplace=True)"
   ]
  },
  {
   "cell_type": "code",
   "execution_count": 14,
   "id": "471da77b-613c-4e05-af09-c41499168627",
   "metadata": {},
   "outputs": [],
   "source": [
    "engine=create_engine('sqlite:///yelp.db')"
   ]
  },
  {
   "cell_type": "code",
   "execution_count": 16,
   "id": "87c59612-c822-41fd-a53d-3e9b934ef19e",
   "metadata": {},
   "outputs": [],
   "source": [
    "def load_dataframe(df,table_name,engine):\n",
    "    df.to_sql(table_name,con=engine, if_exists='replace', index=False)"
   ]
  },
  {
   "cell_type": "code",
   "execution_count": 18,
   "id": "9478fc6d-1936-4389-a8f5-82764b454617",
   "metadata": {},
   "outputs": [],
   "source": [
    "load_dataframe(business_df,'business', engine)\n",
    "load_dataframe(checkin_df,'checkin',engine)\n",
    "load_dataframe(review_df,'review',engine)\n",
    "load_dataframe(tip_df,'tip',engine)\n",
    "load_dataframe(user_df,'user',engine)\n"
   ]
  },
  {
   "cell_type": "code",
   "execution_count": null,
   "id": "b65de74d-0b10-4f52-97e2-ad21effa80ba",
   "metadata": {},
   "outputs": [],
   "source": []
  }
 ],
 "metadata": {
  "kernelspec": {
   "display_name": "Python 3 (ipykernel)",
   "language": "python",
   "name": "python3"
  },
  "language_info": {
   "codemirror_mode": {
    "name": "ipython",
    "version": 3
   },
   "file_extension": ".py",
   "mimetype": "text/x-python",
   "name": "python",
   "nbconvert_exporter": "python",
   "pygments_lexer": "ipython3",
   "version": "3.11.4"
  }
 },
 "nbformat": 4,
 "nbformat_minor": 5
}
